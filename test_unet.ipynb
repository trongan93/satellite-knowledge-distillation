{
 "cells": [
  {
   "cell_type": "code",
   "execution_count": 1,
   "id": "2dc9e7a9-4816-40ad-9db7-d4846035a22d",
   "metadata": {},
   "outputs": [],
   "source": [
    "import sys, os\n",
    "os.environ[\"CUDA_DEVICE_ORDER\"]=\"PCI_BUS_ID\"\n",
    "os.environ[\"CUDA_VISIBLE_DEVICES\"]=\"6,7\"\n",
    "import torch\n",
    "import torch.nn as nn"
   ]
  },
  {
   "cell_type": "code",
   "execution_count": 2,
   "id": "60fd4abd-53cf-4e89-8758-fd933ef91256",
   "metadata": {},
   "outputs": [],
   "source": [
    "# N is batch size; D_in is input dimension;\n",
    "N, D_in = 256, 57\n",
    "x = torch .randn(N, D_in, D_in)"
   ]
  },
  {
   "cell_type": "code",
   "execution_count": 3,
   "id": "0023edb9-08be-43d3-8849-bdad540fe86e",
   "metadata": {},
   "outputs": [
    {
     "data": {
      "text/plain": [
       "torch.Size([4, 57, 57])"
      ]
     },
     "execution_count": 3,
     "metadata": {},
     "output_type": "execute_result"
    }
   ],
   "source": [
    "x.shape"
   ]
  },
  {
   "cell_type": "code",
   "execution_count": 4,
   "id": "62f66ecb-4801-47de-93e0-3b0dac35d374",
   "metadata": {},
   "outputs": [
    {
     "data": {
      "text/plain": [
       "tensor([[[-0.5698, -1.1161, -0.1430,  ...,  0.4380,  0.8362, -1.6317],\n",
       "         [-0.4147, -1.2465, -0.9486,  ..., -1.8635,  0.2055, -0.0196],\n",
       "         [ 0.1592,  0.2652,  0.1499,  ...,  1.9248,  0.7659,  1.1522],\n",
       "         ...,\n",
       "         [-2.8059,  0.1896, -0.8612,  ...,  0.4869,  0.2740,  0.8898],\n",
       "         [-0.9809, -0.9729,  0.6318,  ...,  0.1929,  0.8506,  1.2578],\n",
       "         [-0.2670, -0.2413, -1.1424,  ...,  0.0991, -1.1094,  1.0201]],\n",
       "\n",
       "        [[-0.6461,  0.3777,  1.4531,  ...,  1.1083,  0.1665,  0.1273],\n",
       "         [-0.2944, -2.4850,  0.5173,  ...,  0.5249,  1.5764,  1.3663],\n",
       "         [ 0.6994, -1.1045, -0.5965,  ..., -1.3746, -0.0460, -0.0278],\n",
       "         ...,\n",
       "         [-0.2940,  0.8063, -0.3636,  ...,  0.2478, -0.4572, -0.4809],\n",
       "         [-0.2917,  1.7565,  0.6858,  ...,  0.7214,  0.0804,  0.1214],\n",
       "         [-0.3046,  0.1756,  1.3562,  ...,  0.5297,  1.8142,  0.1591]],\n",
       "\n",
       "        [[ 0.1930, -0.1345,  1.8636,  ...,  0.3847,  2.3211, -1.2157],\n",
       "         [ 0.1935,  0.2588, -1.9458,  ...,  2.1641,  0.3191,  0.7183],\n",
       "         [-0.0047,  0.9127,  0.6361,  ..., -0.0891, -1.4732,  1.0774],\n",
       "         ...,\n",
       "         [-0.0873, -0.7044, -0.9873,  ..., -1.3130,  1.6723, -0.6445],\n",
       "         [ 0.2540, -0.6434,  0.4238,  ...,  1.3504, -0.5426, -0.3185],\n",
       "         [ 0.0236, -0.1981, -1.4205,  ...,  0.2448,  0.1086,  0.8451]],\n",
       "\n",
       "        [[-0.7850, -1.8592, -0.0736,  ..., -1.2651,  0.6580,  0.3429],\n",
       "         [-0.8789, -0.3570,  0.2312,  ..., -0.7833, -0.5118,  1.0937],\n",
       "         [ 1.2186, -0.7305,  0.9244,  ..., -0.0108, -0.7606, -2.0822],\n",
       "         ...,\n",
       "         [-0.1218,  0.3938,  0.6286,  ...,  0.6750,  0.0962, -0.8746],\n",
       "         [ 0.8220,  0.6385, -3.2597,  ...,  0.1970,  1.7122, -0.7964],\n",
       "         [ 0.6204,  0.3551,  0.2654,  ...,  0.2068,  1.1142, -1.8068]]])"
      ]
     },
     "execution_count": 4,
     "metadata": {},
     "output_type": "execute_result"
    }
   ],
   "source": [
    "x"
   ]
  },
  {
   "cell_type": "code",
   "execution_count": 5,
   "id": "0598a185-c359-4160-b292-70373b98e548",
   "metadata": {},
   "outputs": [],
   "source": [
    "import sys  \n",
    "sys.path.insert(0, './viplab_projects/satellite-knowledge-distillation')\n",
    "from models.unet_optimize import UNet\n"
   ]
  },
  {
   "cell_type": "code",
   "execution_count": 6,
   "id": "eca331b4-e00f-4f94-9679-9479b670a3e1",
   "metadata": {},
   "outputs": [],
   "source": [
    "maxpool = nn.MaxPool2d(2)\n",
    "y = maxpool(x)"
   ]
  },
  {
   "cell_type": "code",
   "execution_count": 7,
   "id": "d17fe78b-5e09-4981-b124-d7971e088563",
   "metadata": {},
   "outputs": [
    {
     "data": {
      "text/plain": [
       "torch.Size([4, 28, 28])"
      ]
     },
     "execution_count": 7,
     "metadata": {},
     "output_type": "execute_result"
    }
   ],
   "source": [
    "y.shape"
   ]
  },
  {
   "cell_type": "code",
   "execution_count": 8,
   "id": "248dcd7a-0f03-4a42-a097-efa2cd2ff11c",
   "metadata": {},
   "outputs": [
    {
     "data": {
      "text/plain": [
       "tensor([[[-0.4147,  0.4514,  0.5610,  ...,  0.3806,  2.1896,  0.8362],\n",
       "         [ 0.4475,  0.6715,  0.4791,  ..., -0.5094,  0.5328,  1.9248],\n",
       "         [ 2.0162,  1.0966,  1.0360,  ...,  0.5698,  0.0714,  1.2281],\n",
       "         ...,\n",
       "         [ 0.9504,  0.5219,  1.6624,  ...,  0.7104,  2.0454,  1.1255],\n",
       "         [ 0.4251,  2.4307,  1.7459,  ...,  2.3768,  1.9729,  2.6182],\n",
       "         [ 0.1896,  1.6338,  0.7815,  ...,  0.6797,  0.4107,  0.8506]],\n",
       "\n",
       "        [[ 0.3777,  1.4531, -0.0795,  ..., -0.2437,  1.3003,  1.5764],\n",
       "         [ 1.3034,  1.2437,  0.7075,  ...,  1.5430,  1.8150,  1.2577],\n",
       "         [ 0.0756,  1.6608,  0.5250,  ...,  2.1470,  1.0505,  0.2065],\n",
       "         ...,\n",
       "         [ 0.8413,  2.5230,  0.8502,  ...,  0.3530, -0.1141,  1.9346],\n",
       "         [ 0.7762,  1.1328, -0.1004,  ...,  0.7284, -0.1562,  0.3340],\n",
       "         [ 1.7565,  1.4965,  1.2988,  ...,  0.3364,  2.1169,  0.7214]],\n",
       "\n",
       "        [[ 0.2588,  1.8636,  2.3385,  ...,  0.6374,  0.7342,  2.3211],\n",
       "         [ 1.0820,  2.9263,  0.5745,  ...,  0.4228,  0.8931,  0.0459],\n",
       "         [ 0.6496,  1.8694,  1.8187,  ...,  2.7299,  1.3957,  0.3378],\n",
       "         ...,\n",
       "         [ 2.4396,  1.5676,  0.8558,  ...,  1.5756,  1.3659,  0.2772],\n",
       "         [ 0.1718,  2.1462,  1.6510,  ...,  0.9348, -0.0505,  0.1718],\n",
       "         [ 0.2540,  0.7566,  1.2917,  ...,  0.6931,  1.5403,  1.6723]],\n",
       "\n",
       "        [[-0.3570,  0.5184,  0.8347,  ...,  1.7841,  0.4675,  0.6580],\n",
       "         [ 1.2186,  1.8260,  1.4021,  ...,  1.0757,  0.5267,  1.1377],\n",
       "         [ 1.3554,  0.4867,  0.9176,  ...,  0.3973,  0.4937,  0.8309],\n",
       "         ...,\n",
       "         [ 1.6467,  0.0905,  1.5878,  ...,  0.4100,  0.6308,  0.2125],\n",
       "         [ 1.9991,  2.2962,  0.9907,  ...,  1.0251,  0.9652,  0.8735],\n",
       "         [ 0.8220,  0.6286,  0.5904,  ...,  2.5251,  0.1660,  1.7122]]])"
      ]
     },
     "execution_count": 8,
     "metadata": {},
     "output_type": "execute_result"
    }
   ],
   "source": [
    "y"
   ]
  },
  {
   "cell_type": "code",
   "execution_count": 9,
   "id": "c42e9a7a-8472-4114-8bb8-48a884ec49a8",
   "metadata": {},
   "outputs": [],
   "source": [
    "# N is batch size; D_in is input dimension;\n",
    "# x: (B, num_channels, H, W) input tensor\n",
    "B, num_channels, D_in = 8, 512, 32\n",
    "x = torch.randn(B, num_channels , D_in, D_in)\n",
    "B, num_channels, D_in = 8, 256, 64\n",
    "conv3 = torch.randn(B, num_channels , D_in, D_in)"
   ]
  },
  {
   "cell_type": "code",
   "execution_count": 10,
   "id": "60fcd74d-7d76-4e36-8a1f-ffb99edb02ca",
   "metadata": {},
   "outputs": [
    {
     "data": {
      "text/plain": [
       "torch.Size([8, 512, 32, 32])"
      ]
     },
     "execution_count": 10,
     "metadata": {},
     "output_type": "execute_result"
    }
   ],
   "source": [
    "x.shape"
   ]
  },
  {
   "cell_type": "code",
   "execution_count": 11,
   "id": "0d404c9e-d1c3-43ea-bc90-7030e6b3ae27",
   "metadata": {},
   "outputs": [],
   "source": [
    "dconv_down_3 = nn.Conv2d(512, 512, 3, padding=1)\n",
    "x = dconv_down_3(x)"
   ]
  },
  {
   "cell_type": "code",
   "execution_count": 12,
   "id": "abee0e90-7736-40d7-9ce5-df04d154cfd9",
   "metadata": {},
   "outputs": [
    {
     "data": {
      "text/plain": [
       "torch.Size([8, 512, 32, 32])"
      ]
     },
     "execution_count": 12,
     "metadata": {},
     "output_type": "execute_result"
    }
   ],
   "source": [
    "x.shape"
   ]
  },
  {
   "cell_type": "code",
   "execution_count": 13,
   "id": "3f36908d-b641-4ec4-a60a-75e5e618c2b7",
   "metadata": {},
   "outputs": [],
   "source": [
    "y = nn.functional.interpolate(x, scale_factor=2, mode='bilinear', align_corners=True)"
   ]
  },
  {
   "cell_type": "code",
   "execution_count": 14,
   "id": "9d9d7fa6-491a-4639-9170-df23ae233d42",
   "metadata": {},
   "outputs": [
    {
     "data": {
      "text/plain": [
       "torch.Size([8, 512, 64, 64])"
      ]
     },
     "execution_count": 14,
     "metadata": {},
     "output_type": "execute_result"
    }
   ],
   "source": [
    "y.shape"
   ]
  },
  {
   "cell_type": "code",
   "execution_count": 15,
   "id": "1ce6a99a-5bd2-4054-8e52-57553f58580b",
   "metadata": {},
   "outputs": [],
   "source": [
    "y = torch.cat([y, conv3], dim=1)"
   ]
  },
  {
   "cell_type": "code",
   "execution_count": 16,
   "id": "fccc000e-a649-4b3d-b43f-0fd1be1d4f2a",
   "metadata": {},
   "outputs": [
    {
     "data": {
      "text/plain": [
       "torch.Size([8, 768, 64, 64])"
      ]
     },
     "execution_count": 16,
     "metadata": {},
     "output_type": "execute_result"
    }
   ],
   "source": [
    "y.shape"
   ]
  },
  {
   "cell_type": "code",
   "execution_count": 35,
   "id": "fc9b3881-9281-4252-b60e-9875aa31dfd1",
   "metadata": {},
   "outputs": [],
   "source": [
    "B, N, D_in = 2, 4, 3\n",
    "x = torch .randn(B, N, D_in, D_in)"
   ]
  },
  {
   "cell_type": "code",
   "execution_count": 36,
   "id": "791e41b4-9a46-42d7-ae34-8cdcf826a4f7",
   "metadata": {},
   "outputs": [
    {
     "data": {
      "text/plain": [
       "torch.Size([2, 4, 3, 3])"
      ]
     },
     "execution_count": 36,
     "metadata": {},
     "output_type": "execute_result"
    }
   ],
   "source": [
    "x.shape"
   ]
  },
  {
   "cell_type": "code",
   "execution_count": 37,
   "id": "4dfef760-95ad-4d71-94fb-ef7108a8a652",
   "metadata": {},
   "outputs": [
    {
     "data": {
      "text/plain": [
       "tensor([[[[-1.8559,  1.7953,  0.7394],\n",
       "          [ 0.4701,  0.8579,  0.1233],\n",
       "          [-1.4959,  0.7552,  3.3919]],\n",
       "\n",
       "         [[ 2.0854, -0.9397, -0.0161],\n",
       "          [ 2.1468,  0.7873,  0.8755],\n",
       "          [ 0.0436,  1.7201, -1.4889]],\n",
       "\n",
       "         [[-1.0629, -1.4418,  0.0036],\n",
       "          [ 0.3247,  1.0564,  0.4423],\n",
       "          [-1.0490,  0.1896,  0.4612]],\n",
       "\n",
       "         [[ 3.4334, -1.4929, -0.4212],\n",
       "          [ 0.1965, -1.0018, -1.3456],\n",
       "          [ 0.1704, -1.4278,  0.0092]]],\n",
       "\n",
       "\n",
       "        [[[-0.6010,  0.1292,  0.8632],\n",
       "          [-1.4959,  0.3281, -0.5692],\n",
       "          [ 0.0821,  1.5549,  0.4750]],\n",
       "\n",
       "         [[-0.3031,  0.6711, -0.2277],\n",
       "          [-1.4501, -1.0465,  0.2629],\n",
       "          [ 1.1517, -0.6513, -1.2706]],\n",
       "\n",
       "         [[-1.4647,  0.0531,  0.8869],\n",
       "          [-0.0889, -0.2390, -0.5726],\n",
       "          [-1.4972,  0.5497, -2.0435]],\n",
       "\n",
       "         [[-0.7776, -0.1172, -1.2740],\n",
       "          [ 1.3024,  0.8208, -1.3431],\n",
       "          [ 0.1948,  1.5683, -1.5604]]]])"
      ]
     },
     "execution_count": 37,
     "metadata": {},
     "output_type": "execute_result"
    }
   ],
   "source": [
    "x"
   ]
  },
  {
   "cell_type": "code",
   "execution_count": 71,
   "id": "ad2cee61-211b-4992-aa48-2e72380072bb",
   "metadata": {},
   "outputs": [
    {
     "data": {
      "text/plain": [
       "torch.Size([2, 3, 3, 3])"
      ]
     },
     "execution_count": 71,
     "metadata": {},
     "output_type": "execute_result"
    }
   ],
   "source": [
    "x_rgb = x[:,0:3,:,:]\n",
    "x_rgb.shape"
   ]
  },
  {
   "cell_type": "code",
   "execution_count": 72,
   "id": "27df4fda-81fc-4f6d-86c1-d98d1af41f57",
   "metadata": {},
   "outputs": [
    {
     "data": {
      "text/plain": [
       "tensor([[[[-1.8559,  1.7953,  0.7394],\n",
       "          [ 0.4701,  0.8579,  0.1233],\n",
       "          [-1.4959,  0.7552,  3.3919]],\n",
       "\n",
       "         [[ 2.0854, -0.9397, -0.0161],\n",
       "          [ 2.1468,  0.7873,  0.8755],\n",
       "          [ 0.0436,  1.7201, -1.4889]],\n",
       "\n",
       "         [[-1.0629, -1.4418,  0.0036],\n",
       "          [ 0.3247,  1.0564,  0.4423],\n",
       "          [-1.0490,  0.1896,  0.4612]]],\n",
       "\n",
       "\n",
       "        [[[-0.6010,  0.1292,  0.8632],\n",
       "          [-1.4959,  0.3281, -0.5692],\n",
       "          [ 0.0821,  1.5549,  0.4750]],\n",
       "\n",
       "         [[-0.3031,  0.6711, -0.2277],\n",
       "          [-1.4501, -1.0465,  0.2629],\n",
       "          [ 1.1517, -0.6513, -1.2706]],\n",
       "\n",
       "         [[-1.4647,  0.0531,  0.8869],\n",
       "          [-0.0889, -0.2390, -0.5726],\n",
       "          [-1.4972,  0.5497, -2.0435]]]])"
      ]
     },
     "execution_count": 72,
     "metadata": {},
     "output_type": "execute_result"
    }
   ],
   "source": [
    "x_rgb"
   ]
  },
  {
   "cell_type": "code",
   "execution_count": 75,
   "id": "b2be59af-7372-4b23-84e1-bb9ac152611b",
   "metadata": {},
   "outputs": [
    {
     "data": {
      "text/plain": [
       "torch.Size([2, 3, 3])"
      ]
     },
     "execution_count": 75,
     "metadata": {},
     "output_type": "execute_result"
    }
   ],
   "source": [
    "x_Nir = x[:,3,:,:]\n",
    "x_Nir.shape"
   ]
  },
  {
   "cell_type": "code",
   "execution_count": 76,
   "id": "7a187476-a821-4525-a330-3b8341a50284",
   "metadata": {},
   "outputs": [
    {
     "data": {
      "text/plain": [
       "tensor([[[ 3.4334, -1.4929, -0.4212],\n",
       "         [ 0.1965, -1.0018, -1.3456],\n",
       "         [ 0.1704, -1.4278,  0.0092]],\n",
       "\n",
       "        [[-0.7776, -0.1172, -1.2740],\n",
       "         [ 1.3024,  0.8208, -1.3431],\n",
       "         [ 0.1948,  1.5683, -1.5604]]])"
      ]
     },
     "execution_count": 76,
     "metadata": {},
     "output_type": "execute_result"
    }
   ],
   "source": [
    "x_Nir"
   ]
  },
  {
   "cell_type": "code",
   "execution_count": null,
   "id": "dfb2c973-f1d5-42cb-8e48-ac641d58c87e",
   "metadata": {},
   "outputs": [],
   "source": []
  }
 ],
 "metadata": {
  "kernelspec": {
   "display_name": "pt-gpu",
   "language": "python",
   "name": "pt-gpu"
  },
  "language_info": {
   "codemirror_mode": {
    "name": "ipython",
    "version": 3
   },
   "file_extension": ".py",
   "mimetype": "text/x-python",
   "name": "python",
   "nbconvert_exporter": "python",
   "pygments_lexer": "ipython3",
   "version": "3.8.0"
  }
 },
 "nbformat": 4,
 "nbformat_minor": 5
}
